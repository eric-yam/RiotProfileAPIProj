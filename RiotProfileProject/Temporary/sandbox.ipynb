{
 "cells": [
  {
   "cell_type": "code",
   "execution_count": 4,
   "metadata": {},
   "outputs": [
    {
     "name": "stdout",
     "output_type": "stream",
     "text": [
      "Hello world\n"
     ]
    }
   ],
   "source": [
    "print(\"Hello world\")"
   ]
  },
  {
   "cell_type": "code",
   "execution_count": 1,
   "metadata": {},
   "outputs": [
    {
     "name": "stdout",
     "output_type": "stream",
     "text": [
      "FwUuJz4wIUeMefcFqmUlBGqhMgemiFkP0-0ebQkxFUOUo2WbvJp02nRGSZ6DNhQAruLQG0X8S_OLXg\n"
     ]
    }
   ],
   "source": [
    "import requests\n",
    "\n",
    "gameName = \"airWickedd2\"\n",
    "tagLine = \"NA1\"\n",
    "apiKey = \"RGAPI-4807787f-b38d-48b7-bac3-1b9353bacb48\"\n",
    "link = \"https://americas.api.riotgames.com/riot/account/v1/accounts/by-riot-id/{}/{}?api_key={}\".format(\n",
    "    gameName, tagLine, apiKey)\n",
    "\n",
    "response = requests.get(link)\n",
    "\n",
    "print(response.json()['puuid'])\n",
    "# print(type(response.json()))"
   ]
  }
 ],
 "metadata": {
  "kernelspec": {
   "display_name": ".venv",
   "language": "python",
   "name": "python3"
  },
  "language_info": {
   "codemirror_mode": {
    "name": "ipython",
    "version": 3
   },
   "file_extension": ".py",
   "mimetype": "text/x-python",
   "name": "python",
   "nbconvert_exporter": "python",
   "pygments_lexer": "ipython3",
   "version": "3.13.1"
  }
 },
 "nbformat": 4,
 "nbformat_minor": 2
}
